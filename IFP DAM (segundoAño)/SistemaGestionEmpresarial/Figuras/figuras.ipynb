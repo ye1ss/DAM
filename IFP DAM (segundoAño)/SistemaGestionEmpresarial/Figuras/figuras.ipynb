{
 "cells": [
  {
   "cell_type": "code",
   "execution_count": 12,
   "metadata": {},
   "outputs": [
    {
     "name": "stdout",
     "output_type": "stream",
     "text": [
      "**********\n",
      "*        *\n",
      "*        *\n",
      "*        *\n",
      "*        *\n",
      "*        *\n",
      "*        *\n",
      "*        *\n",
      "*        *\n",
      "**********\n"
     ]
    }
   ],
   "source": [
    "lado=10\n",
    "for n in range(1, lado):\n",
    "    if n==1:\n",
    "        print(\"*\" *lado)\n",
    "    else:\n",
    "        print(\"*\" + \" \"*(lado -2) + \"*\")\n",
    "        \n",
    "print(\"*\" *lado)"
   ]
  },
  {
   "cell_type": "code",
   "execution_count": 5,
   "metadata": {},
   "outputs": [
    {
     "name": "stdout",
     "output_type": "stream",
     "text": [
      "\n",
      "\n",
      "*\n",
      "**\n",
      "***\n",
      "****\n",
      "*****\n",
      "******\n",
      "*******\n",
      "********\n",
      "*********\n"
     ]
    }
   ],
   "source": [
    "lado=11\n",
    "for n in range(lado):\n",
    "    print(\"*\" *(n-1))"
   ]
  },
  {
   "cell_type": "code",
   "execution_count": 60,
   "metadata": {},
   "outputs": [
    {
     "name": "stdout",
     "output_type": "stream",
     "text": [
      "***********\n",
      "**********\n",
      "*********\n",
      "********\n",
      "*******\n",
      "******\n",
      "*****\n",
      "****\n",
      "***\n",
      "**\n",
      "*\n"
     ]
    }
   ],
   "source": [
    "lado= 11\n",
    "for n in range(lado,0,-1):\n",
    "    print(\"*\" *n)"
   ]
  },
  {
   "cell_type": "code",
<<<<<<< HEAD
   "execution_count": 57,
=======
   "execution_count": 31,
>>>>>>> ea7851d278e486e2fdb81d1ed16200b0128018a1
   "metadata": {},
   "outputs": [
    {
     "name": "stdout",
     "output_type": "stream",
     "text": [
<<<<<<< HEAD
      "                    \n",
      "                   **\n",
      "                  ****\n",
      "                 ******\n",
      "                ********\n",
      "               **********\n",
      "              ************\n",
      "             **************\n",
      "            ****************\n",
      "           ******************\n",
      "          ********************\n",
      "         **********************\n",
      "        ************************\n",
      "       **************************\n",
      "      ****************************\n",
      "     ******************************\n",
      "    ********************************\n",
      "   **********************************\n",
      "  ************************************\n",
      " **************************************\n"
=======
      "                   \n",
      "                  *\n",
      "                 ***\n",
      "                *****\n",
      "               *******\n",
      "              *********\n",
      "             ***********\n",
      "            *************\n",
      "           ***************\n",
      "          *****************\n",
      "         *******************\n",
      "        *********************\n",
      "       ***********************\n",
      "      *************************\n",
      "     ***************************\n",
      "    *****************************\n",
      "   *******************************\n",
      "  *********************************\n",
      " ***********************************\n",
      "*************************************\n"
>>>>>>> ea7851d278e486e2fdb81d1ed16200b0128018a1
     ]
    }
   ],
   "source": [
    "lado=20 #hacer dos piramedes y unirlas y q solo se pinte lo de fuera\n",
    "for n in range(lado):\n",
<<<<<<< HEAD
    "    print(\" \"* (lado -n)+ \"*\" *(lado -lado +n)*2 )"
=======
    "    print(\" \"*(lado -n -1)+ \"*\" *(2* n-1))"
>>>>>>> ea7851d278e486e2fdb81d1ed16200b0128018a1
   ]
  }
 ],
 "metadata": {
  "kernelspec": {
   "display_name": "Python 3",
   "language": "python",
   "name": "python3"
  },
  "language_info": {
   "codemirror_mode": {
    "name": "ipython",
    "version": 3
   },
   "file_extension": ".py",
   "mimetype": "text/x-python",
   "name": "python",
   "nbconvert_exporter": "python",
   "pygments_lexer": "ipython3",
   "version": "3.11.5"
  },
  "orig_nbformat": 4
 },
 "nbformat": 4,
 "nbformat_minor": 2
}
