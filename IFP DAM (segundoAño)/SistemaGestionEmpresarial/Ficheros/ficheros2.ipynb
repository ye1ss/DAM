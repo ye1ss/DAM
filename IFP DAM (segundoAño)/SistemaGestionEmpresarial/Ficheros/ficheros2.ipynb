{
 "cells": [
  {
   "attachments": {},
   "cell_type": "markdown",
   "metadata": {},
   "source": []
  },
  {
   "cell_type": "code",
   "execution_count": 48,
   "metadata": {},
   "outputs": [],
   "source": [
    "fich=open(\"fich1.txt\",\"w\") #La w es de escribir"
   ]
  },
  {
   "cell_type": "code",
   "execution_count": 49,
   "metadata": {},
   "outputs": [],
   "source": [
    "texto='Linea primera\\nLinea segunda\\nLinea Tercera'\n",
    "fich.write(texto)\n",
    "fich.close()"
   ]
  },
  {
   "cell_type": "code",
   "execution_count": 41,
   "metadata": {},
   "outputs": [
    {
     "name": "stdout",
     "output_type": "stream",
     "text": [
      "Linea primera\n",
      "\n",
      "Linea segunda\n",
      "\n",
      "Linea Tercera\n"
     ]
    }
   ],
   "source": [
    "with open('fich1.txt', 'r') as fichero: #la r es para la lectura, el  with es para dejar el fichero abierto y cuando acaba lo cierra\n",
    "    for linea in fichero:\n",
    "        print (linea)"
   ]
  },
  {
   "cell_type": "code",
   "execution_count": 42,
   "metadata": {},
   "outputs": [
    {
     "data": {
      "text/plain": [
       "' prim'"
      ]
     },
     "execution_count": 42,
     "metadata": {},
     "output_type": "execute_result"
    }
   ],
   "source": [
    "fichero= open('fich1.txt','r')\n",
    "fichero.seek(5) #Empieza desde la posicion 5\n",
    "fichero.read(5) #Y lee 5 espacios apartir de la posición que es le ponga"
   ]
  },
  {
   "cell_type": "code",
   "execution_count": 115,
   "metadata": {},
   "outputs": [],
   "source": [
    "fichero= open('fich1.txt','r')\n",
    "#asi al poner el read el puntero ya cogio toda la primera linea y al hacer el read 1 ya lee la segunda línea"
   ]
  },
  {
   "cell_type": "code",
   "execution_count": 116,
   "metadata": {},
   "outputs": [
    {
     "data": {
      "text/plain": [
       "['Linea primera\\n', 'Linea segunda\\n', 'Linea Tercera']"
      ]
     },
     "execution_count": 116,
     "metadata": {},
     "output_type": "execute_result"
    }
   ],
   "source": [
    "lineas= fichero.readlines()\n",
    "lineas"
   ]
  },
  {
   "cell_type": "code",
   "execution_count": 117,
   "metadata": {},
   "outputs": [
    {
     "data": {
      "text/plain": [
       "'Linea primera\\n'"
      ]
     },
     "execution_count": 117,
     "metadata": {},
     "output_type": "execute_result"
    }
   ],
   "source": [
    "\n",
    "fichero.seek(0) #lo posicionamos en 0 y cuando lo leemos se pone al principio de la segunda linea\n",
    "fichero.read(len(lineas[0])) "
   ]
  },
  {
   "cell_type": "code",
   "execution_count": 119,
   "metadata": {},
   "outputs": [
    {
     "data": {
      "text/plain": [
       "'\\nLinea segunda'"
      ]
     },
     "execution_count": 119,
     "metadata": {},
     "output_type": "execute_result"
    }
   ],
   "source": [
    "\n",
    "fichero.seek(len(lineas[0])) #con el len ponemos para que coja toda la primera linea \n",
    "fichero.read(len(lineas[1])) "
   ]
  },
  {
   "cell_type": "code",
   "execution_count": 120,
   "metadata": {},
   "outputs": [
    {
     "data": {
      "text/plain": [
       "'\\nLinea Tercera'"
      ]
     },
     "execution_count": 120,
     "metadata": {},
     "output_type": "execute_result"
    }
   ],
   "source": [
    "fichero.read(len(lineas[1])) #aqui ya no hace falta el seek(puntero) ya se esta posicionando el una vez voy imprimiendo con el reead"
   ]
  },
  {
   "attachments": {},
   "cell_type": "markdown",
   "metadata": {},
   "source": [
    "ESTRUCTURA BINARIA FICHERO"
   ]
  },
  {
   "cell_type": "code",
   "execution_count": 130,
   "metadata": {},
   "outputs": [],
   "source": [
    "\n",
    "import pickle #con cargar esto una vez ya vale luego si quiero puedo hasta borrarlo"
   ]
  },
  {
   "cell_type": "code",
   "execution_count": 140,
   "metadata": {},
   "outputs": [],
   "source": [
    "lista=[1,2,3,4]\n",
    "fichero= open('fichbin.pickl','wb') #escritura en modo binario\n",
    "pickle.dump(lista, fichero) #guardo en lista lo que hay en fichero\n",
    "fichero.close()"
   ]
  },
  {
   "cell_type": "code",
   "execution_count": 141,
   "metadata": {},
   "outputs": [],
   "source": [
    "fichero= open('fichbin.pickl','rb') #lectura en modo binario\n",
    "lista_fichero= pickle.load(fichero) #cargamos la lectura del objeto"
   ]
  },
  {
   "cell_type": "code",
   "execution_count": 142,
   "metadata": {},
   "outputs": [
    {
     "name": "stdout",
     "output_type": "stream",
     "text": [
      "[1, 2, 3, 4]\n"
     ]
    }
   ],
   "source": [
    "print(lista_fichero)"
   ]
  },
  {
   "cell_type": "code",
   "execution_count": null,
   "metadata": {},
   "outputs": [],
   "source": [
    "class persona:\n",
    "    def _init_(self,nombre):\n",
    "        self.nombre= nombre\n",
    "    def _str_(self):\n",
    "        return self.nombre\n",
    "\n",
    "nombres=[\"Héctor\",\"Mario\",\"Marta\"]\n",
    "personas= []\n",
    "\n",
    "for n in nombres:\n",
    "    p= Persona(n)\n",
    "    personas.append(p)\n",
    "    \n",
    "import pickle\n",
    "pickle.dump(personas)"
   ]
  }
 ],
 "metadata": {
  "kernelspec": {
   "display_name": "Python 3",
   "language": "python",
   "name": "python3"
  },
  "language_info": {
   "codemirror_mode": {
    "name": "ipython",
    "version": 3
   },
   "file_extension": ".py",
   "mimetype": "text/x-python",
   "name": "python",
   "nbconvert_exporter": "python",
   "pygments_lexer": "ipython3",
   "version": "3.10.4"
  },
  "orig_nbformat": 4
 },
 "nbformat": 4,
 "nbformat_minor": 2
}
