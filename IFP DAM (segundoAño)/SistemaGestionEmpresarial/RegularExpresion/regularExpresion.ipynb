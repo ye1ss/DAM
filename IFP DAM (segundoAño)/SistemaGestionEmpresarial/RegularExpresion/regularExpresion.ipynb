{
 "cells": [
  {
   "attachments": {},
   "cell_type": "markdown",
   "metadata": {},
   "source": [
    "Esto de regular expresion es para encontrar palabras sustituir... Se practica para poner aqui en la pag regexr.com"
   ]
  },
  {
   "cell_type": "code",
   "execution_count": 25,
   "metadata": {},
   "outputs": [],
   "source": [
    "import re"
   ]
  },
  {
   "cell_type": "code",
   "execution_count": 26,
   "metadata": {},
   "outputs": [
    {
     "name": "stdout",
     "output_type": "stream",
     "text": [
      "La palabra esta\n"
     ]
    }
   ],
   "source": [
    "texto=\"Es lunes y el cuerpo lo sabe, hola\"\n",
    "encontrado= re.search('cuerpo', texto) #con esto sustituyo palabras\n",
    "if encontrado:\n",
    "    print(\"La palabra esta\")\n",
    "else:\n",
    "    print(\"La palabra no esta\")"
   ]
  },
  {
   "cell_type": "code",
   "execution_count": 16,
   "metadata": {},
   "outputs": [
    {
     "name": "stdout",
     "output_type": "stream",
     "text": [
      "14\n",
      "20\n",
      "Es lunes y el cuerpo lo sabe\n"
     ]
    }
   ],
   "source": [
    "print(encontrado.start())\n",
    "print(encontrado.end())\n",
    "print(encontrado.string)"
   ]
  },
  {
   "cell_type": "code",
   "execution_count": 18,
   "metadata": {},
   "outputs": [
    {
     "name": "stdout",
     "output_type": "stream",
     "text": [
      "Es lunes y el cuerpo lo sabe\n"
     ]
    },
    {
     "data": {
      "text/plain": [
       "'Es martes y el cuerpo lo sabe'"
      ]
     },
     "execution_count": 18,
     "metadata": {},
     "output_type": "execute_result"
    }
   ],
   "source": [
    "re.split('cabeza', texto)\n",
    "print(encontrado.string)\n",
    "re.sub('lunes','martes',texto) #con esto sustituyo lunes por martes y lo pongo en texto"
   ]
  },
  {
   "cell_type": "code",
   "execution_count": 30,
   "metadata": {},
   "outputs": [
    {
     "data": {
      "text/plain": [
       "['hola']"
      ]
     },
     "execution_count": 30,
     "metadata": {},
     "output_type": "execute_result"
    }
   ],
   "source": [
    "re.findall('hola|hello',texto) #si lo pongo todo dento de un len() me dice cuantas veces encontro esta palabra y el findall es para encontrar la palabra"
   ]
  },
  {
   "cell_type": "code",
   "execution_count": 45,
   "metadata": {},
   "outputs": [],
   "source": [
    "texto=\"hla, ho1a, hoola, hoooola, hooooola\""
   ]
  },
  {
   "cell_type": "code",
   "execution_count": 48,
   "metadata": {},
   "outputs": [
    {
     "name": "stdout",
     "output_type": "stream",
     "text": [
      "['h', 'ho', 'hoo', 'hoooo', 'hooooo']\n",
      "['ho', 'hoo', 'hoooo', 'hooooo']\n",
      "['h', 'ho', 'ho', 'ho', 'ho']\n",
      "['hoola']\n",
      "['hoola', 'hoooola', 'hooooola']\n"
     ]
    }
   ],
   "source": [
    "def busqueda(patron, texto):\n",
    "    for patron in patrones:\n",
    "        print(re.findall(patron, texto))\n",
    "patrones=['ho*','ho+','ho?','ho{2}la','ho{1,5}la']\n",
    "#el * sirve para repetir ninguna o más repeticiones\n",
    "busqueda(patrones, texto)"
   ]
  },
  {
   "cell_type": "code",
   "execution_count": 53,
   "metadata": {},
   "outputs": [],
   "source": [
    "texto2='La inflación de 2023 es altísima, escribe a pipi@gmail.com para la salvación'"
   ]
  },
  {
   "cell_type": "code",
   "execution_count": 55,
   "metadata": {},
   "outputs": [
    {
     "name": "stdout",
     "output_type": "stream",
     "text": [
      "['2023']\n",
      "[]\n",
      "['La', 'inflación', 'de', '2023', 'es', 'altísima', 'escribe', 'a', 'pipi', 'gmail', 'com', 'para', 'la', 'salvación']\n",
      "[' ', ' ', ' ', ' ', ' ', ', ', ' ', ' ', '@', '.', ' ', ' ', ' ']\n",
      "['d']\n",
      "[' ', ' ', ' ', ' ', ' ', ' ', ' ', ' ', ' ', ' ', ' ']\n",
      "['La', 'inflación', 'de', '2023', 'es', 'altísima,', 'escribe', 'a', 'pipi@gmail.com', 'para', 'la', 'salvación']\n"
     ]
    }
   ],
   "source": [
    "#Esto se practica para hacerlo aqui ya completado en regexr.com\n",
    "def busqueda2(patron2, texto2):\n",
    "    for patron2 in patrones2:\n",
    "        print(re.findall(patron2,texto2))\n",
    "patrones2=[r'\\d+',r'D+',r'\\w+',r'\\W+',r'd',r'\\s',r'\\S+']\n",
    "busqueda2(patrones2,texto2)"
   ]
  },
  {
   "cell_type": "code",
   "execution_count": 58,
   "metadata": {},
   "outputs": [
    {
     "name": "stdout",
     "output_type": "stream",
     "text": [
      "['pipi03@gmail.com', 'yeismil@gmail.com']\n"
     ]
    }
   ],
   "source": [
    "texto3='La inflación de 2023 es altísima, escribe a pipi03@gmail.com para la salvación, yeismil@gmail.com'\n",
    "def busqueda2(patron2, texto3):\n",
    "    for patron2 in patrones2:\n",
    "        print(re.findall(patron2,texto3))\n",
    "patrones2=[r'\\w+@\\w+\\w.\\w+']\n",
    "busqueda2(patrones2,texto3)"
   ]
  },
  {
   "cell_type": "code",
   "execution_count": 63,
   "metadata": {},
   "outputs": [
    {
     "data": {
      "text/plain": [
       "3216"
      ]
     },
     "execution_count": 63,
     "metadata": {},
     "output_type": "execute_result"
    }
   ],
   "source": [
    "cadena='++\\*-| A_+ 2200+-/14-*2ab-++1000'\n",
    "eval(\"+\".join(str(n)for n in re.findall(r'\\d+',cadena)))"
   ]
  }
 ],
 "metadata": {
  "kernelspec": {
   "display_name": "Python 3",
   "language": "python",
   "name": "python3"
  },
  "language_info": {
   "codemirror_mode": {
    "name": "ipython",
    "version": 3
   },
   "file_extension": ".py",
   "mimetype": "text/x-python",
   "name": "python",
   "nbconvert_exporter": "python",
   "pygments_lexer": "ipython3",
   "version": "3.10.4"
  },
  "orig_nbformat": 4
 },
 "nbformat": 4,
 "nbformat_minor": 2
}
