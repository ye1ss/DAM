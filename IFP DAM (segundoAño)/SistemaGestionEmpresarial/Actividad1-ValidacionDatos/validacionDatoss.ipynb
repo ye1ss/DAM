{
 "cells": [
  {
   "cell_type": "markdown",
   "metadata": {},
   "source": [
    "VALIDACIÓN DE NIF/NIE/NAF/CCC"
   ]
  },
  {
   "cell_type": "markdown",
   "metadata": {},
   "source": [
    "1.Validación de NIF"
   ]
  },
  {
   "cell_type": "code",
   "execution_count": 40,
   "metadata": {},
   "outputs": [
    {
     "name": "stdout",
     "output_type": "stream",
     "text": [
      "Entrada válida:  54495517F\n",
      "54495517/23 = 2369370.304347826\n",
      "2369370*23 = 54495510\n",
      "54495517-54495510 = 7\n",
      "La letra correspondiente es: F\n"
     ]
    }
   ],
   "source": [
    "def pedir_nif():\n",
    "    nif = input(\"Introduce un NIF para validar: \")\n",
    "    nif = nif.upper()  # Convertir todas las letras a mayúsculas\n",
    "    return nif\n",
    "\n",
    "def validarEntrada(nif):\n",
    "    if len(nif) != 9:\n",
    "        return False\n",
    "\n",
    "    for i in range(8):\n",
    "        if not nif[i].isdigit(): #si no son numeros retorna false\n",
    "            return False\n",
    "\n",
    "    if not nif[8].isalpha(): #si no es letra retorna false\n",
    "        return False\n",
    "\n",
    "    return True\n",
    "\n",
    "while True:\n",
    "    nif = pedir_nif()\n",
    "    if validarEntrada(nif):\n",
    "        print(\"Entrada válida: \", nif)\n",
    "        break\n",
    "    else:\n",
    "        print(\"Entrada inválida. Inténtelo de nuevo.\")\n",
    "\n",
    "# Realizar los cálculos después de validar la entrada\n",
    "cogerNumeros = nif[:8]\n",
    "numeros_nif = int(cogerNumeros)\n",
    "division = numeros_nif / 23\n",
    "print(f'{numeros_nif}/23 = {division}')\n",
    "parteEntera = int(division)\n",
    "multiplicar = parteEntera * 23\n",
    "print(f'{parteEntera}*23 = {multiplicar}')\n",
    "resta = numeros_nif - multiplicar\n",
    "print(f'{numeros_nif}-{multiplicar} = {resta}')\n",
    "\n",
    "# creamos la tabla para buscar que letra le corresponde la número\n",
    "tablaLetra = \"TRWAGMYFPDXBNJZSQVHLCKE\"\n",
    "corresponde = tablaLetra[resta]\n",
    "print(\"La letra correspondiente es:\", corresponde)\n"
   ]
  },
  {
   "cell_type": "markdown",
   "metadata": {},
   "source": [
    "2.Validaación de NIE"
   ]
  },
  {
   "cell_type": "code",
   "execution_count": 41,
   "metadata": {},
   "outputs": [
    {
     "name": "stdout",
     "output_type": "stream",
     "text": [
      "Entrada válida: Y9408905X\n",
      "19408905/23 = 843865.4347826086\n",
      "843865*23 = 19408895\n",
      "19408905-19408895 = 10\n",
      "La letra correspondiente es: X\n"
     ]
    }
   ],
   "source": [
    "def pedir_nie():\n",
    "    nie= input(\"Inroduce NIE, para validar: \")\n",
    "    nie= nie.upper() #para que convierta todas las letras e mayúscula\n",
    "    return nie\n",
    "\n",
    "def validarEntrada(nie):\n",
    "    if len(nie) !=9: #si es mayor que nueve da false\n",
    "        return False\n",
    "    \n",
    "    for i in range(1,7):\n",
    "        if not nie[i].isdigit(): #si no son numeros retorna false\n",
    "            return False\n",
    "\n",
    "    if not (nie[0].isalpha() and nie[8].isalpha()): #la octava posición, esto es para que verifique es es una letra, si no es una letra retorna false\n",
    "        return False\n",
    "    \n",
    "    return True\n",
    "\n",
    "def letraInicial(nie):\n",
    "\n",
    "    if nie[0]== 'X':\n",
    "        valor= 0\n",
    "    elif nie[0]== 'Y':\n",
    "        valor= 1\n",
    "    else:\n",
    "        valor= 2\n",
    "    return valor\n",
    "\n",
    "\n",
    "\n",
    "while True:\n",
    "    nie= pedir_nie()\n",
    "    if validarEntrada(nie):\n",
    "        print(\"Entrada válida:\",nie)\n",
    "        break\n",
    "    else:\n",
    "        print(\"Entrada inválida.Intenelo de nuevo.\")\n",
    "\n",
    "# Realizar los cálculos después de validar la entrada\n",
    "numero = int('1' + nie[1:8]) #Agregar '1' al principio del número \n",
    "division = numero / 23\n",
    "print(f'{numero}/23 = {division}')\n",
    "parteEntera = int(division)\n",
    "multiplicar = parteEntera * 23\n",
    "print(f'{parteEntera}*23 = {multiplicar}')\n",
    "resta = numero - multiplicar\n",
    "print(f'{numero}-{multiplicar} = {resta}')\n",
    "\n",
    "# creamos la tabla para buscar que letra le corresponde la número\n",
    "tablaLetra = \"TRWAGMYFPDXBNJZSQVHLCKE\"\n",
    "corresponde = tablaLetra[resta]\n",
    "print(\"La letra correspondiente es:\", corresponde)\n",
    "    \n"
   ]
  },
  {
   "cell_type": "markdown",
   "metadata": {},
   "source": [
    "3.Validación de NAF"
   ]
  },
  {
   "cell_type": "code",
   "execution_count": 42,
   "metadata": {},
   "outputs": [
    {
     "name": "stdout",
     "output_type": "stream",
     "text": [
      "A = 28\n",
      "B = 12345678\n",
      "C = 40\n",
      "Código de control: 94\n"
     ]
    }
   ],
   "source": [
    "# 281234567840\n",
    "def pedir_naf():\n",
    "    naf= input(\"Introduce NAF para validar:\")\n",
    "    return naf\n",
    "\n",
    "def validarEntrada(naf):\n",
    "    if len(naf) != 12:\n",
    "        return False\n",
    "    if not naf.isdigit():  #Verifica que naf contiene solo dígitos\n",
    "        return False\n",
    "    return True\n",
    "    \n",
    "def separarPartes(naf):\n",
    "    if validarEntrada(naf):\n",
    "        a= naf[:2]\n",
    "        b= naf[2:10]\n",
    "        c= naf[10:]\n",
    "\n",
    "        print(f\"A = {a}\")\n",
    "        print(f\"B = {b}\")\n",
    "        print(f\"C = {c}\")\n",
    "\n",
    "        if int(b) <10000000:\n",
    "            codigo_control = (int(b) +int(a) *10000000) % 97\n",
    "        else:\n",
    "            codigo_control = (int(a) *10000000 +int(b)) % 97\n",
    "\n",
    "            print(f\"Código de control: {codigo_control}\")\n",
    "    else:\n",
    "        print(\"Entrada no válida\")\n",
    "\n",
    "naf = pedir_naf()\n",
    "separarPartes(naf)\n"
   ]
  },
  {
   "cell_type": "markdown",
   "metadata": {},
   "source": [
    "4.Validar el CCC/Iban"
   ]
  },
  {
   "cell_type": "code",
   "execution_count": null,
   "metadata": {},
   "outputs": [],
   "source": [
    "def pedir_iban():\n",
    "    iban= input(\"Introduce el Iban que deseas validar:\")\n",
    "    return iban\n",
    "\n",
    "def primerDigitoControl(iban):\n",
    "    "
   ]
  }
 ],
 "metadata": {
  "kernelspec": {
   "display_name": "Python 3",
   "language": "python",
   "name": "python3"
  },
  "language_info": {
   "codemirror_mode": {
    "name": "ipython",
    "version": 3
   },
   "file_extension": ".py",
   "mimetype": "text/x-python",
   "name": "python",
   "nbconvert_exporter": "python",
   "pygments_lexer": "ipython3",
   "version": "3.11.5"
  }
 },
 "nbformat": 4,
 "nbformat_minor": 2
}
