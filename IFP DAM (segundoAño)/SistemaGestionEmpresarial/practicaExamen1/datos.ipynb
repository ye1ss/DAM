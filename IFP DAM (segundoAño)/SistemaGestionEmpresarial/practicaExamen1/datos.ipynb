{
 "cells": [
  {
   "cell_type": "markdown",
   "metadata": {},
   "source": [
    "1.Controlar el bucle if, for y while\n",
    "2.Saber hacer un fichero leerlo, escribir en el, formatearlo\n",
    "3.Sacar datos de una lista meterlo a otra y saber hacer y meter datos en un diccionario\n",
    "4.Saber coger palabas o los datos que yo quiero con la regex\n",
    "5.sqlite controlar los metodos de apertura y cierre de una base de datos(conectarme con base de datos hacer tablas)\n",
    "6.Saber separar cadenas de datos con el split y unirlas con el join"
   ]
  },
  {
   "cell_type": "code",
   "execution_count": 5,
   "metadata": {},
   "outputs": [
    {
     "name": "stdout",
     "output_type": "stream",
     "text": [
      "El número 4356 es par\n"
     ]
    }
   ],
   "source": [
    "# if Escribe un programa que le pida al usuario ingresar un número entero. Luego, verifica si el número ingresado es par o impar y muestra un mensaje correspondiente.\n",
    "num= int(input(\"Ingresa un numero entero: \"))\n",
    "\n",
    "if num % 2 ==0:\n",
    "    print(f\"El número {num} es par\")    \n",
    "else:\n",
    "    print(f\"El número {num} es impar\")\n"
   ]
  },
  {
   "cell_type": "code",
   "execution_count": 9,
   "metadata": {},
   "outputs": [
    {
     "name": "stdout",
     "output_type": "stream",
     "text": [
      "La suma de los primeros 4 números naturales es: 10\n"
     ]
    }
   ],
   "source": [
    "# for Escribe un programa que solicite al usuario ingresar un número entero positivo N. Luego, utiliza un bucle for para calcular la suma de los primeros N números naturales e imprime el resultado.\n",
    "num= int(input(\"Ingresa un numero entero positivo: \"))\n",
    "\n",
    "if num <=0:\n",
    "    print(f\"{num} No es un número positivo, escriba un número positivo\")\n",
    "else:\n",
    "    suma= 0\n",
    "    for i in range (1, num +1):\n",
    "        suma += i\n",
    "    print(f\"La suma de los primeros {num} números naturales es: {suma}\")"
   ]
  },
  {
   "cell_type": "code",
   "execution_count": 36,
   "metadata": {},
   "outputs": [],
   "source": [
    "#creación de fichero\n",
    "texto=\"Hola como estas, esto luego me servirá para algo jeje 123 \\nEsta es la línea de abajo\"\n",
    "\n",
    "fichero= open(\"fichero.txt\", \"w\")\n",
    "fichero.write(texto) \n",
    "fichero.close()\n"
   ]
  },
  {
   "cell_type": "code",
   "execution_count": 37,
   "metadata": {},
   "outputs": [
    {
     "name": "stdout",
     "output_type": "stream",
     "text": [
      "Hola como estas, esto luego me servirá para algo jeje 123 \n",
      "Esta es la línea de abajo\n"
     ]
    }
   ],
   "source": [
    "fichero= open(\"fichero.txt\", \"r\")\n",
    "lineas= fichero.read()\n",
    "fichero.close()\n",
    "print(lineas)"
   ]
  },
  {
   "cell_type": "code",
   "execution_count": 42,
   "metadata": {},
   "outputs": [],
   "source": [
    "#para añadir mas texto al fichero usamos a (append)\n",
    "fichero= open(\"fichero.txt\", \"a\")\n",
    "fichero.write(\"\\nEsta es la nueva utilizando append\")\n",
    "fichero.close()"
   ]
  },
  {
   "cell_type": "code",
   "execution_count": 44,
   "metadata": {},
   "outputs": [
    {
     "name": "stdout",
     "output_type": "stream",
     "text": [
      "Hola como estas, esto luego me servirï¿½ para algo jeje 123 \n",
      "Esta es la lï¿½nea de abajoEsta es la nueva utilizando append\n",
      "Esta es la nueva utilizando append\n",
      "\n"
     ]
    }
   ],
   "source": [
    "fichero= open(\"fichero.txt\", \"r\")\n",
    "lineasN= fichero.read()\n",
    "fichero.close()\n",
    "print(lineasN)"
   ]
  }
 ],
 "metadata": {
  "kernelspec": {
   "display_name": "Python 3",
   "language": "python",
   "name": "python3"
  },
  "language_info": {
   "codemirror_mode": {
    "name": "ipython",
    "version": 3
   },
   "file_extension": ".py",
   "mimetype": "text/x-python",
   "name": "python",
   "nbconvert_exporter": "python",
   "pygments_lexer": "ipython3",
   "version": "3.12.1"
  }
 },
 "nbformat": 4,
 "nbformat_minor": 2
}
