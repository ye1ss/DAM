{
 "cells": [
  {
   "cell_type": "code",
   "execution_count": 4,
   "metadata": {},
   "outputs": [],
   "source": [
    "matriz=[[\"\",\"\",\"\"],[\"\",\"\",\"\"],[\"\",\"\",\"\"]]\n"
   ]
  },
  {
   "cell_type": "code",
   "execution_count": null,
   "metadata": {},
   "outputs": [],
   "source": [
    "matriz=[[\"\",\"\",\"\"],[\"\",\"\",\"\"],[\"\",\"\",\"\"]]\n",
    "for n in range(0,len(matriz)):  #en la n y la i estoy guardndo las cordenadas\n",
    "    for i in range(0,len(matriz[0])):  #len cuenta lo que hay dentro de matriz, ahora mismo cuantos elementos(listas) hay en matriz\n",
    "        if matriz[n][i]=='':\n",
    "            matriz[n][i]=input(\"Nombre: \")"
   ]
  },
  {
   "cell_type": "code",
   "execution_count": 16,
   "metadata": {},
   "outputs": [
    {
     "name": "stdout",
     "output_type": "stream",
     "text": [
      "[['pepe', 'aa', 'pepe'], ['ss', 'pepe', 'pepe'], ['pepe', 'pepe', 'dd']]\n"
     ]
    }
   ],
   "source": [
    "matriz=[[\"pepe\",\"\",\"pepe\"],[\"\",\"pepe\",\"pepe\"],[\"pepe\",\"pepe\",\"\"]]\n",
    "for n in range(0,len(matriz)):  #en la n y la i estoy guardndo las cordenadas\n",
    "    for i in range(0,len(matriz[0])):\n",
    "        if matriz[n][i]=='':\n",
    "            matriz[n][i]=input(\"Nombre: \")\n",
    "\n",
    "print(matriz)"
   ]
  },
  {
   "attachments": {},
   "cell_type": "markdown",
   "metadata": {},
   "source": [
    "ESTOS 3 DE ABAJO VAN JUNTOS "
   ]
  },
  {
   "cell_type": "code",
   "execution_count": 5,
   "metadata": {},
   "outputs": [],
   "source": [
    "matriz=[[\"pepe\",\"\",\"pepe\"],[\"\",\"pepe\",\"pepe\"],[\"pepe\",\"pepe\",\"\"]]"
   ]
  },
  {
   "cell_type": "code",
   "execution_count": 8,
   "metadata": {},
   "outputs": [
    {
     "data": {
      "text/plain": [
       "[['pepe', 'yeis', 'pepe'], ['', 'pepe', 'pepe'], ['pepe', 'pepe', '']]"
      ]
     },
     "execution_count": 8,
     "metadata": {},
     "output_type": "execute_result"
    }
   ],
   "source": [
    "matriz"
   ]
  },
  {
   "cell_type": "code",
   "execution_count": 7,
   "metadata": {},
   "outputs": [],
   "source": [
    "f=int(input(\"Dime fila: \"))\n",
    "c=int(input(\"Dime columna: \"))\n",
    "if matriz[f][c]=='':\n",
    "    matriz[f][c]=input(\"¿Qué quieres poner: ?\")\n",
    "else:\n",
    "    print(\"No está libre.\")"
   ]
  },
  {
   "attachments": {},
   "cell_type": "markdown",
   "metadata": {},
   "source": [
    "OTRO EJEMPLO"
   ]
  },
  {
   "cell_type": "code",
   "execution_count": 14,
   "metadata": {},
   "outputs": [],
   "source": [
    "lista=[[12,50,63],[100,599,630,233],[63]]"
   ]
  },
  {
   "cell_type": "code",
   "execution_count": 15,
   "metadata": {},
   "outputs": [
    {
     "name": "stdout",
     "output_type": "stream",
     "text": [
      "[12, 50, 63]\n",
      "[100, 599, 630, 233]\n",
      "[63]\n"
     ]
    }
   ],
   "source": [
    "for i in lista:\n",
    "    print(i)"
   ]
  }
 ],
 "metadata": {
  "kernelspec": {
   "display_name": "Python 3",
   "language": "python",
   "name": "python3"
  },
  "language_info": {
   "codemirror_mode": {
    "name": "ipython",
    "version": 3
   },
   "file_extension": ".py",
   "mimetype": "text/x-python",
   "name": "python",
   "nbconvert_exporter": "python",
   "pygments_lexer": "ipython3",
   "version": "3.10.4"
  },
  "orig_nbformat": 4
 },
 "nbformat": 4,
 "nbformat_minor": 2
}
