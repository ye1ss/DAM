{
 "cells": [
  {
   "cell_type": "code",
   "execution_count": 2,
   "metadata": {},
   "outputs": [
    {
     "name": "stdout",
     "output_type": "stream",
     "text": [
      "hola \n",
      "caca\n",
      "yeismil\n",
      "100\n",
      "yeismil-100-pepe\n"
     ]
    }
   ],
   "source": [
    "print(\"hola \\ncaca\") #Comentariooo\n",
    "nombre=\"yeismil\"\n",
    "num= 100\n",
    "decimal= 11.5\n",
    "print(nombre)\n",
    "print(num)\n",
    "print(nombre, num, \"pepe\", sep='-')#El sep como puedes ver hace que se separe todo en los guiones\n"
   ]
  },
  {
   "cell_type": "code",
   "execution_count": 91,
   "metadata": {},
   "outputs": [
    {
     "data": {
      "text/plain": [
       "'11.5'"
      ]
     },
     "execution_count": 91,
     "metadata": {},
     "output_type": "execute_result"
    }
   ],
   "source": [
    "str(decimal)"
   ]
  },
  {
   "cell_type": "code",
   "execution_count": 92,
   "metadata": {},
   "outputs": [
    {
     "data": {
      "text/plain": [
       "11"
      ]
     },
     "execution_count": 92,
     "metadata": {},
     "output_type": "execute_result"
    }
   ],
   "source": [
    "int(decimal)"
   ]
  },
  {
   "cell_type": "code",
   "execution_count": 4,
   "metadata": {},
   "outputs": [
    {
     "data": {
      "text/plain": [
       "'odasarter se ocaP'"
      ]
     },
     "execution_count": 4,
     "metadata": {},
     "output_type": "execute_result"
    }
   ],
   "source": [
    "cadena= \"Paco es retrasado\"\n",
    "cadena[::-1]"
   ]
  },
  {
   "cell_type": "code",
   "execution_count": 94,
   "metadata": {},
   "outputs": [
    {
     "data": {
      "text/plain": [
       "'o'"
      ]
     },
     "execution_count": 94,
     "metadata": {},
     "output_type": "execute_result"
    }
   ],
   "source": [
    "cadena[-1]#Aqui solo aparece la o de 'paco es retrasado por que la ultima o es el menos 1'"
   ]
  },
  {
   "cell_type": "code",
   "execution_count": 1,
   "metadata": {},
   "outputs": [
    {
     "ename": "NameError",
     "evalue": "name 'cadena' is not defined",
     "output_type": "error",
     "traceback": [
      "\u001b[1;31m---------------------------------------------------------------------------\u001b[0m",
      "\u001b[1;31mNameError\u001b[0m                                 Traceback (most recent call last)",
      "\u001b[1;32mc:\\DEVELOPER\\IFP\\SistemaGestionEmpresarial\\PrimerosPasos\\probando.ipynb Cell 6\u001b[0m line \u001b[0;36m1\n\u001b[1;32m----> <a href='vscode-notebook-cell:/c%3A/DEVELOPER/IFP/SistemaGestionEmpresarial/PrimerosPasos/probando.ipynb#W5sZmlsZQ%3D%3D?line=0'>1</a>\u001b[0m cadena[\u001b[39m0\u001b[39m:\u001b[39m4\u001b[39m]\u001b[39m#Con esta combinación solo imprimimos paco porque \u001b[39;00m\n",
      "\u001b[1;31mNameError\u001b[0m: name 'cadena' is not defined"
     ]
    }
   ],
   "source": [
    "cadena[0:4]#Con esta combinación solo imprimimos paco porque "
   ]
  },
  {
   "cell_type": "code",
   "execution_count": 5,
   "metadata": {},
   "outputs": [
    {
     "data": {
      "text/plain": [
       "'Paco retrasado'"
      ]
     },
     "execution_count": 5,
     "metadata": {},
     "output_type": "execute_result"
    }
   ],
   "source": [
    "cadena[0:4]+ cadena[7:]#La posicion 7 escribe retrasado porque contamos de izquierda a derecha hasta el 7 e imprime lo que queda a la derecha de la frase"
   ]
  },
  {
   "cell_type": "code",
   "execution_count": 97,
   "metadata": {},
   "outputs": [
    {
     "data": {
      "text/plain": [
       "['P',\n",
       " 'a',\n",
       " 'c',\n",
       " 'o',\n",
       " ' ',\n",
       " 'e',\n",
       " 's',\n",
       " ' ',\n",
       " 'r',\n",
       " 'e',\n",
       " 't',\n",
       " 'r',\n",
       " 'a',\n",
       " 's',\n",
       " 'a',\n",
       " 'd',\n",
       " 'o']"
      ]
     },
     "execution_count": 97,
     "metadata": {},
     "output_type": "execute_result"
    }
   ],
   "source": [
    "list(cadena)#Esto imprime lo que ves tmbn se puede poner list[cadena], y lo imprime todo junto"
   ]
  },
  {
   "cell_type": "code",
   "execution_count": 81,
   "metadata": {},
   "outputs": [
    {
     "data": {
      "text/plain": [
       "True"
      ]
     },
     "execution_count": 81,
     "metadata": {},
     "output_type": "execute_result"
    }
   ],
   "source": [
    "not True #Esto da FALSE\n",
    "not True== False #Esto da TRUE\n",
    "True== False #Esto da FALSE\n",
    "0==False #Esto da TRUE\n",
    "True *3==3 #Esto da true"
   ]
  },
  {
   "cell_type": "code",
   "execution_count": 101,
   "metadata": {},
   "outputs": [
    {
     "data": {
      "text/plain": [
       "True"
      ]
     },
     "execution_count": 101,
     "metadata": {},
     "output_type": "execute_result"
    }
   ],
   "source": [
    "num> 5 and num< 101"
   ]
  },
  {
   "cell_type": "code",
   "execution_count": 104,
   "metadata": {},
   "outputs": [
    {
     "data": {
      "text/plain": [
       "'Luis'"
      ]
     },
     "execution_count": 104,
     "metadata": {},
     "output_type": "execute_result"
    }
   ],
   "source": [
    "nombre== \"Maria\" or \"Luis\" or \"Pedro\" #Da el del medio siempre porque true es 1,  si quiero q seleccione uno en si poner antes nombre=\"Maria\" por ej"
   ]
  },
  {
   "cell_type": "code",
   "execution_count": 105,
   "metadata": {},
   "outputs": [
    {
     "data": {
      "text/plain": [
       "'yeisyeisyeis'"
      ]
     },
     "execution_count": 105,
     "metadata": {},
     "output_type": "execute_result"
    }
   ],
   "source": [
    "usuario= input(\"Dime tu nombre\")\n",
    "usuario *3 #Asi me lo pone 3 veces, si quito el 3 pues me lo escribe solo 1 vez"
   ]
  },
  {
   "cell_type": "code",
   "execution_count": 108,
   "metadata": {},
   "outputs": [
    {
     "name": "stdout",
     "output_type": "stream",
     "text": [
      "20\n"
     ]
    }
   ],
   "source": [
    "usuario= int(input(\"Dime tu edad\"))\n",
    "usuario *3 #He convertido lo que pongo en un int y ahora si que se puede multiplicar\n"
   ]
  },
  {
   "cell_type": "code",
   "execution_count": 128,
   "metadata": {},
   "outputs": [
    {
     "name": "stdout",
     "output_type": "stream",
     "text": [
      "P\n",
      "a\n",
      "c\n",
      "o\n"
     ]
    }
   ],
   "source": [
    "for c in \"Paco\": #Pongo c pero puedo poner cualquier cosa el for lo guarda en lo q ponga\n",
    "    print(c)"
   ]
  },
  {
   "cell_type": "code",
   "execution_count": 129,
   "metadata": {},
   "outputs": [],
   "source": [
    "Lista=[\"Pepe\", 100, [10,20,30]]"
   ]
  },
  {
   "cell_type": "code",
   "execution_count": 130,
   "metadata": {},
   "outputs": [
    {
     "data": {
      "text/plain": [
       "100"
      ]
     },
     "execution_count": 130,
     "metadata": {},
     "output_type": "execute_result"
    }
   ],
   "source": [
    "Lista[1] #Se imprime el 100 porque el 0 es pepe y el 1 es 100 y el 2 pues lo que hay dentro de []"
   ]
  },
  {
   "cell_type": "code",
   "execution_count": 134,
   "metadata": {},
   "outputs": [
    {
     "data": {
      "text/plain": [
       "[10, 20, 30]"
      ]
     },
     "execution_count": 134,
     "metadata": {},
     "output_type": "execute_result"
    }
   ],
   "source": [
    "Lista[2]"
   ]
  },
  {
   "attachments": {},
   "cell_type": "markdown",
   "metadata": {},
   "source": [
    "LISTA INTERDIMENSIONAL"
   ]
  },
  {
   "cell_type": "code",
   "execution_count": 135,
   "metadata": {},
   "outputs": [
    {
     "data": {
      "text/plain": [
       "[1, 2, 3, 4, 5, 6]"
      ]
     },
     "execution_count": 135,
     "metadata": {},
     "output_type": "execute_result"
    }
   ],
   "source": [
    "l1=[1,2,3]\n",
    "l2=[4,5,6]\n",
    "l3=[7,8,9]\n",
    "l1+l2"
   ]
  },
  {
   "attachments": {},
   "cell_type": "markdown",
   "metadata": {},
   "source": [
    "ARRAY INTERDIMENSIONAL"
   ]
  },
  {
   "cell_type": "code",
   "execution_count": 166,
   "metadata": {},
   "outputs": [],
   "source": [
    "liston=[l1,l2,l3]"
   ]
  },
  {
   "cell_type": "code",
   "execution_count": 138,
   "metadata": {},
   "outputs": [
    {
     "data": {
      "text/plain": [
       "5"
      ]
     },
     "execution_count": 138,
     "metadata": {},
     "output_type": "execute_result"
    }
   ],
   "source": [
    "liston[1][1] #Imprime el 5 por que lo sacamos de la lista 2 que es el primer 1 y el 1 es el 5 por que el 4 esta en la posición 0"
   ]
  },
  {
   "cell_type": "code",
   "execution_count": 139,
   "metadata": {},
   "outputs": [],
   "source": [
    "liston[1][1]=50 #Aqui se cambiaria el 5 por el 50"
   ]
  },
  {
   "cell_type": "code",
   "execution_count": 140,
   "metadata": {},
   "outputs": [
    {
     "name": "stdout",
     "output_type": "stream",
     "text": [
      "1\n",
      "2\n",
      "3\n"
     ]
    }
   ],
   "source": [
    "for l in l1:\n",
    "    print(l)"
   ]
  },
  {
   "cell_type": "code",
   "execution_count": 151,
   "metadata": {},
   "outputs": [
    {
     "name": "stdout",
     "output_type": "stream",
     "text": [
      "1\n",
      "2\n",
      "3\n",
      "4\n",
      "50\n",
      "6\n",
      "7\n",
      "8\n",
      "9\n"
     ]
    }
   ],
   "source": [
    "for uii in liston:\n",
    "    for e in uii: #el uii tiene las 3 listas y luego en e leemos lo que hay dentro de las listas,arriba directamente fui a la lista l1 aqui teniamos que utilizar liston\n",
    "        print (e)"
   ]
  },
  {
   "cell_type": "code",
   "execution_count": null,
   "metadata": {},
   "outputs": [
    {
     "name": "stdout",
     "output_type": "stream",
     "text": [
      "1\n",
      "2\n",
      "3\n",
      "4\n",
      "5\n",
      "6\n",
      "7\n",
      "8\n",
      "9\n",
      "10\n",
      "11\n",
      "12\n",
      "13\n",
      "14\n",
      "15\n",
      "16\n",
      "17\n",
      "18\n",
      "19\n",
      "20\n",
      "21\n",
      "22\n",
      "23\n",
      "24\n",
      "25\n",
      "26\n",
      "27\n",
      "28\n",
      "29\n",
      "30\n",
      "31\n",
      "32\n",
      "33\n",
      "34\n",
      "35\n",
      "36\n",
      "37\n",
      "38\n",
      "39\n",
      "40\n",
      "41\n",
      "42\n",
      "43\n",
      "44\n",
      "45\n",
      "46\n",
      "47\n",
      "48\n",
      "49\n"
     ]
    }
   ],
   "source": [
    "for n in range(1,50): #Esto es hasta 49 porque la primera posicion es 0\n",
    "    print (n)"
   ]
  },
  {
   "cell_type": "code",
   "execution_count": 154,
   "metadata": {},
   "outputs": [
    {
     "name": "stdout",
     "output_type": "stream",
     "text": [
      "1\n",
      "6\n",
      "11\n",
      "16\n",
      "21\n",
      "26\n",
      "31\n",
      "36\n",
      "41\n",
      "46\n"
     ]
    }
   ],
   "source": [
    "for o in range(1,50,5): #Con esto va de 5 en 5\n",
    "    print(o)"
   ]
  },
  {
   "attachments": {},
   "cell_type": "markdown",
   "metadata": {},
   "source": [
    "PRIMERA TABLA DE MULTIPLICAR"
   ]
  },
  {
   "cell_type": "code",
   "execution_count": 165,
   "metadata": {},
   "outputs": [
    {
     "name": "stdout",
     "output_type": "stream",
     "text": [
      "2 x 1 = 2\n",
      "2 x 2 = 4\n",
      "2 x 3 = 6\n",
      "2 x 4 = 8\n",
      "2 x 5 = 10\n",
      "2 x 6 = 12\n",
      "2 x 7 = 14\n",
      "2 x 8 = 16\n",
      "2 x 9 = 18\n",
      "2 x 10 = 20\n",
      "Se acabó\n"
     ]
    }
   ],
   "source": [
    "num=int(input(\"Dime que tabla de multiplicar quieres: \"))\n",
    "for t in range(1,11): #Esto es para que multiplique numeros solo del 1 al 10 otra manera que lo hize fue= for t in range(num,num*11,num):\n",
    "    print (num,\"x\",t,\"=\",num*t)\n",
    "print(\"Se acabó\") #si el print lo metiese mas alante estaria dentro del for y lo pondria todo el rato"
   ]
  },
  {
   "attachments": {},
   "cell_type": "markdown",
   "metadata": {},
   "source": [
    "programa que tenga 9 sitios 3 listas.. y que se pida un nombre y se vaya poniendo "
   ]
  },
  {
   "cell_type": "code",
   "execution_count": 8,
   "metadata": {},
   "outputs": [],
   "source": [
    "matriz=[[\"\",\"\",\"\"],[\"\",\"\",\"\"],[\"\",\"\",\"\"]]\n",
    "for n in range(0,len(matriz)):  #en la n y la i estoy guardndo las cordenadas\n",
    "    for i in range(0,len(matriz[0])):\n",
    "        if matriz[n][i]=='':\n",
    "            matriz[n][i]=input(\"Nombre: \")"
   ]
  },
  {
   "cell_type": "code",
   "execution_count": null,
   "metadata": {},
   "outputs": [],
   "source": [
    "list=[[],[],[]]\n",
    "\n",
    "for n in range(0,10):\n",
    "    nom=str(input(\"Dime un nombre: \"))\n",
    "    list.append(nom) #El append solo añada alfinal por eso no se me entra dentro\n",
    "print(list)\n",
    "    #me falta que cada 3 nombres esten dentro de una celda"
   ]
  },
  {
   "cell_type": "code",
   "execution_count": 11,
   "metadata": {},
   "outputs": [
    {
     "name": "stdout",
     "output_type": "stream",
     "text": [
      "['aa', 'ss', 'dd']\n",
      "['ff', 'gg', 'hh']\n",
      "['jj', 'kk', 'll']\n",
      "['aa', 'ss', 'dd']\n",
      "['ff', 'gg', 'hh']\n",
      "['jj', 'kk', 'll']\n"
     ]
    }
   ],
   "source": [
    "list1=[]\n",
    "list2=[]\n",
    "list3=[]\n",
    "listentera=[list1,list2,list3]\n",
    "\n",
    "for n in range(1,4):\n",
    "    nom=str(input(\"Dime un nombre: \"))\n",
    "    list1.append(nom)\n",
    "listentera.append(list1)\n",
    "\n",
    "for n in range(1,4):\n",
    "    nom=str(input(\"Dime un nombre: \"))\n",
    "    list2.append(nom)\n",
    "listentera.append(list2)\n",
    "\n",
    "for n in range(1,4):\n",
    "    nom=str(input(\"Dime un nombre: \"))\n",
    "    list3.append(nom)\n",
    "listentera.append(list3)\n",
    "\n",
    "for j in listentera:\n",
    "    print(j)\n",
    "    "
   ]
  }
 ],
 "metadata": {
  "kernelspec": {
   "display_name": "Python 3",
   "language": "python",
   "name": "python3"
  },
  "language_info": {
   "codemirror_mode": {
    "name": "ipython",
    "version": 3
   },
   "file_extension": ".py",
   "mimetype": "text/x-python",
   "name": "python",
   "nbconvert_exporter": "python",
   "pygments_lexer": "ipython3",
   "version": "3.12.1"
  },
  "orig_nbformat": 4
 },
 "nbformat": 4,
 "nbformat_minor": 2
}
