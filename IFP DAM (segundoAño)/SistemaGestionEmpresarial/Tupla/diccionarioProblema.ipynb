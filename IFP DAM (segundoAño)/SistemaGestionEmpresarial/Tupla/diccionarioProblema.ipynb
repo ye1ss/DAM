{
 "cells": [
  {
   "attachments": {},
   "cell_type": "markdown",
   "metadata": {},
   "source": [
    "la idea es que hagamos un diccionario y luego que se impriman las paersonas cada uno con lo suyo"
   ]
  },
  {
   "cell_type": "code",
   "execution_count": 114,
   "metadata": {},
   "outputs": [],
   "source": [
    "salario=[1500, 2000, 1800, 3200]\n",
    "edad=[35, 24, 30, 60]\n",
    "direccion=[\"c/Mirlo, 12\", \"c/Loro, 13\", \"avd.España\", \"ps.de las Flores, 14\"]\n",
    "empleados=[\"Lorenzo\", \"Ana\", \"Luis\", \"Manuel\"]\n",
    "plantilla=[] #aqui metemos los datos"
   ]
  },
  {
   "cell_type": "code",
   "execution_count": 117,
   "metadata": {},
   "outputs": [
    {
     "data": {
      "text/plain": [
       "[{'Nombre': 'Luis', 'Edad': 30, 'Direccion': 'avd.España', 'Salario': 1800},\n",
       " {'Nombre': 'Luis', 'Edad': 30, 'Direccion': 'avd.España', 'Salario': 1800},\n",
       " {'Nombre': 'Luis', 'Edad': 30, 'Direccion': 'avd.España', 'Salario': 1800}]"
      ]
     },
     "execution_count": 117,
     "metadata": {},
     "output_type": "execute_result"
    }
   ],
   "source": [
    "\n",
    "for i in range(0,3):\n",
    "    dic ={'Nombre':empleados[i],'Edad': edad[i],'Direccion':direccion[i],'Salario':salario[i]}\n",
    "        \n",
    "plantilla.append(dic)\n",
    "plantilla\n",
    "\n",
    "\n"
   ]
  }
 ],
 "metadata": {
  "kernelspec": {
   "display_name": "Python 3",
   "language": "python",
   "name": "python3"
  },
  "language_info": {
   "codemirror_mode": {
    "name": "ipython",
    "version": 3
   },
   "file_extension": ".py",
   "mimetype": "text/x-python",
   "name": "python",
   "nbconvert_exporter": "python",
   "pygments_lexer": "ipython3",
   "version": "3.10.4"
  },
  "orig_nbformat": 4
 },
 "nbformat": 4,
 "nbformat_minor": 2
}
