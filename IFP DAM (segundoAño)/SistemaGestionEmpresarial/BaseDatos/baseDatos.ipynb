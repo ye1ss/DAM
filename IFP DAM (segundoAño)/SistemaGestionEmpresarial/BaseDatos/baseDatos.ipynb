{
 "cells": [
  {
   "attachments": {},
   "cell_type": "markdown",
   "metadata": {},
   "source": [
    "CREAR BASE DE DATOS"
   ]
  },
  {
   "cell_type": "code",
   "execution_count": 23,
   "metadata": {},
   "outputs": [],
   "source": [
    "import sqlite3\n"
   ]
  },
  {
   "cell_type": "code",
   "execution_count": 24,
   "metadata": {},
   "outputs": [],
   "source": [
    "conexion= sqlite3.connect(\"ejemplo.db\")"
   ]
  },
  {
   "cell_type": "code",
   "execution_count": 25,
   "metadata": {},
   "outputs": [],
   "source": [
    "conexion.close()"
   ]
  },
  {
   "attachments": {},
   "cell_type": "markdown",
   "metadata": {},
   "source": [
    "TODO SEGUIDO CREANDO UN CURSOR"
   ]
  },
  {
   "cell_type": "code",
   "execution_count": null,
   "metadata": {},
   "outputs": [],
   "source": [
    "#crear una tabla\n",
    "# descargar esto db browser for sqlite para abrir la base de datos\n",
    "import sqlite3\n",
    "conexion= sqlite3.connect(\"ejemplo.db\") #creo el contenedor y se conecta a el\n",
    "cursor= conexion.cursor() #el cursor es el que ejecuta los comandos sql, es el que pasa las cosas a la base de datos \n",
    "cursor.execute(\"CREATE TABLE USUARIOS(NOMBRE VARCHAR(50), EDAD INTEGER, EMAIL VARCHAR(100))\")\n",
    "conexion.commit() #\n",
    "conexion.close()\n"
   ]
  },
  {
   "cell_type": "code",
   "execution_count": 33,
   "metadata": {},
   "outputs": [],
   "source": [
    "#crear una tabla\n",
    "# descargar esto db browser for sqlite para abrir la base de datos\n",
    "import sqlite3\n",
    "conexion= sqlite3.connect(\"ejemplo.db\") #creo el contenedor y se conecta a el\n",
    "cursor= conexion.cursor() #el cursor es el que ejecuta los comandos sql, es el que pasa las cosas a la base de datos \n",
    "cursor.execute(\"CREATE TABLE ALUMNOS (COD INTEGER PRIMARY KEY AUTOINCREMENT, NOMBRE VARCHAR(50), EDAD INTEGER, EMAIL VARCHAR(100))\")\n",
    "conexion.commit() #\n",
    "conexion.close()"
   ]
  },
  {
   "cell_type": "code",
   "execution_count": 12,
   "metadata": {},
   "outputs": [],
   "source": [
    "#insertar un solo registro\n",
    "# descargar esto db browser for sqlite para abrir la base de datos\n",
    "import sqlite3\n",
    "conexion= sqlite3.connect(\"ejemplo.db\") #creo el contenedor y se conecta a el\n",
    "cursor= conexion.cursor() #el cursor es el que ejecuta los comandos sql, es el que pasa las cosas a la base de datos \n",
    "cursor.execute(\"INSERT INTO USUARIOS(NOMBRE) VALUES('pepe') \")\n",
    "conexion.commit() #\n",
    "conexion.close()\n"
   ]
  },
  {
   "cell_type": "code",
   "execution_count": 28,
   "metadata": {},
   "outputs": [],
   "source": [
    "#insertar un registro\n",
    "# descargar esto db browser for sqlite para abrir la base de datos\n",
    "import sqlite3\n",
    "conexion= sqlite3.connect(\"ejemplo.db\") #creo el contenedor y se conecta a el\n",
    "cursor= conexion.cursor() #el cursor es el que ejecuta los comandos sql, es el que pasa las cosas a la base de datos \n",
    "cursor.execute(\"INSERT INTO USUARIOS VALUES('yeis', 22, 'yeis@gmail.com') \")\n",
    "conexion.commit() #\n",
    "conexion.close()"
   ]
  },
  {
   "cell_type": "code",
   "execution_count": 30,
   "metadata": {},
   "outputs": [
    {
     "name": "stdout",
     "output_type": "stream",
     "text": [
      "<sqlite3.Cursor object at 0x000001F550AD26C0>\n",
      "[('pepe', None, None), ('pepe', 22, 'pepe@gmail.com'), ('yeis', 22, 'yeis@gmail.com')]\n"
     ]
    }
   ],
   "source": [
    "#leer registro\n",
    "# descargar esto db browser for sqlite para abrir la base de datos\n",
    "import sqlite3\n",
    "conexion= sqlite3.connect(\"ejemplo.db\") #creo el contenedor y se conecta a el\n",
    "cursor= conexion.cursor() #el cursor es el que ejecuta los comandos sql, es el que pasa las cosas a la base de datos \n",
    "cursor.execute(\"SELECT* FROM USUARIOS\")\n",
    "print(cursor) #esto es solo para ver el cursor en plan la petición\n",
    "usuario=cursor.fetchall()#fetchone es para que coga el primer dato si pongo fetchall coge todos los datos\n",
    "print (usuario)\n",
    "#no necesitamos el commit porque no se generan cosas solo se piden\n",
    "conexion.close()"
   ]
  }
 ],
 "metadata": {
  "kernelspec": {
   "display_name": "Python 3",
   "language": "python",
   "name": "python3"
  },
  "language_info": {
   "codemirror_mode": {
    "name": "ipython",
    "version": 3
   },
   "file_extension": ".py",
   "mimetype": "text/x-python",
   "name": "python",
   "nbconvert_exporter": "python",
   "pygments_lexer": "ipython3",
   "version": "3.10.4"
  },
  "orig_nbformat": 4
 },
 "nbformat": 4,
 "nbformat_minor": 2
}
