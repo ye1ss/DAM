{
 "cells": [
  {
   "cell_type": "code",
   "execution_count": null,
   "metadata": {},
   "outputs": [],
   "source": [
    "def saludar():\n",
    "    print(\"Holaa\")"
   ]
  },
  {
   "cell_type": "code",
   "execution_count": 9,
   "metadata": {},
   "outputs": [
    {
     "name": "stdout",
     "output_type": "stream",
     "text": [
      "5x0=0\n",
      "5x1=5\n",
      "5x2=10\n",
      "5x3=15\n",
      "5x4=20\n",
      "5x5=25\n",
      "5x6=30\n",
      "5x7=35\n",
      "5x8=40\n",
      "5x9=45\n"
     ]
    }
   ],
   "source": [
    "def tabla_del_5():\n",
    "    for n in range(10):\n",
    "        print('5x{}={}'.format(n,n*5))\n",
    "tabla_del_5()"
   ]
  },
  {
   "cell_type": "code",
   "execution_count": 10,
   "metadata": {},
   "outputs": [],
   "source": [
    "def prueba():\n",
    "    m=100\n",
    "prueba()"
   ]
  },
  {
   "cell_type": "code",
   "execution_count": 16,
   "metadata": {},
   "outputs": [
    {
     "name": "stdout",
     "output_type": "stream",
     "text": [
      "10\n"
     ]
    }
   ],
   "source": [
    "l=10\n",
    "def prueba():\n",
    "    print(l)\n",
    "prueba()"
   ]
  },
  {
   "cell_type": "code",
   "execution_count": 27,
   "metadata": {},
   "outputs": [],
   "source": [
    "def test():\n",
    "    global o\n",
    "    o= 15\n",
    "test()"
   ]
  },
  {
   "cell_type": "code",
   "execution_count": 22,
   "metadata": {},
   "outputs": [
    {
     "data": {
      "text/plain": [
       "'como estas?'"
      ]
     },
     "execution_count": 22,
     "metadata": {},
     "output_type": "execute_result"
    }
   ],
   "source": [
    "def decir():\n",
    "    return \"como estas?\"\n",
    "decir()"
   ]
  },
  {
   "cell_type": "code",
   "execution_count": 23,
   "metadata": {},
   "outputs": [
    {
     "name": "stdout",
     "output_type": "stream",
     "text": [
      "como estas?\n"
     ]
    }
   ],
   "source": [
    "texto= decir()\n",
    "print(texto)"
   ]
  },
  {
   "cell_type": "code",
   "execution_count": 34,
   "metadata": {},
   "outputs": [
    {
     "name": "stdout",
     "output_type": "stream",
     "text": [
      "3\n"
     ]
    }
   ],
   "source": [
    "def listado():\n",
    "    return[1,2,3,4]\n",
    "print(listado()[2]) #tambien puedo hacer que me saque de uno a 3 por ejemplo con lo mismo pero [0:2] en vez de solo el 2"
   ]
  },
  {
   "cell_type": "code",
   "execution_count": 44,
   "metadata": {},
   "outputs": [],
   "source": [
    "def listado():\n",
    "    return 100,'pecho',[1,2,3,4]\n",
    "listado()\n",
    "num,nom,lista= listado()"
   ]
  },
  {
   "cell_type": "code",
   "execution_count": 49,
   "metadata": {},
   "outputs": [
    {
     "data": {
      "text/plain": [
       "(100, 'pecho', [1, 2, 3, 4])"
      ]
     },
     "execution_count": 49,
     "metadata": {},
     "output_type": "execute_result"
    }
   ],
   "source": [
    "num, nom, lista"
   ]
  },
  {
   "cell_type": "code",
   "execution_count": 51,
   "metadata": {},
   "outputs": [
    {
     "data": {
      "text/plain": [
       "7"
      ]
     },
     "execution_count": 51,
     "metadata": {},
     "output_type": "execute_result"
    }
   ],
   "source": [
    "def sumar(num1,num2):\n",
    "    return num1+num2\n",
    "sumar(2,5)"
   ]
  },
  {
   "cell_type": "code",
   "execution_count": 52,
   "metadata": {},
   "outputs": [
    {
     "data": {
      "text/plain": [
       "30"
      ]
     },
     "execution_count": 52,
     "metadata": {},
     "output_type": "execute_result"
    }
   ],
   "source": [
    "sumar(num1=20,num2=10)"
   ]
  },
  {
   "cell_type": "code",
   "execution_count": 65,
   "metadata": {},
   "outputs": [
    {
     "name": "stdout",
     "output_type": "stream",
     "text": [
      "Error faltan números\n"
     ]
    }
   ],
   "source": [
    "def restar(a=None,b=None):\n",
    "    if a==None or b==None:\n",
    "        print('Error faltan números')\n",
    "        return\n",
    "    return a-b\n",
    "    \n",
    "restar(7,5)#y si no pongo nada me da el mensaje del error"
   ]
  },
  {
   "cell_type": "code",
   "execution_count": 93,
   "metadata": {},
   "outputs": [
    {
     "name": "stdout",
     "output_type": "stream",
     "text": [
      "100\n",
      "-100\n"
     ]
    }
   ],
   "source": [
    "def param_indeterminados(*args):#un asterisco es un unico elemento en un argumento\n",
    "    for arg in args:\n",
    "        if type(arg)==(int or float):\n",
    "            print(arg)    \n",
    "param_indeterminados(100,-100,'andres',['choco','merluza','bacalao'])     \n",
    "            \n",
    "            "
   ]
  },
  {
   "cell_type": "code",
   "execution_count": 100,
   "metadata": {},
   "outputs": [
    {
     "name": "stdout",
     "output_type": "stream",
     "text": [
      "a 10\n",
      "b 200\n",
      "c ana\n",
      "d [1, 2, 3, 4]\n"
     ]
    }
   ],
   "source": [
    "def argumento_clave_valor(**clavargs):#si pongo dos asteriscos es una clave valor\n",
    "    for arg in clavargs:\n",
    "        print(arg,clavargs[arg])#poniendo solo arg solo me saca la clave osea el nombre de como se llama cada variable(a,b,c,d)\n",
    "argumento_clave_valor(a=10,b=200,c='ana',d=[1,2,3,4])"
   ]
  },
  {
   "cell_type": "code",
   "execution_count": null,
   "metadata": {},
   "outputs": [],
   "source": [
    "def super_funcion(*args,**clavargs):\n",
    "    t=0\n",
    "    for arg in args:\n",
    "        t+=arg\n",
    "    print()"
   ]
  }
 ],
 "metadata": {
  "language_info": {
   "name": "python"
  },
  "orig_nbformat": 4
 },
 "nbformat": 4,
 "nbformat_minor": 2
}
