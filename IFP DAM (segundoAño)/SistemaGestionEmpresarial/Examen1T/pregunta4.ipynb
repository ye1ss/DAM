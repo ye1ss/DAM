{
 "cells": [
  {
   "attachments": {},
   "cell_type": "markdown",
   "metadata": {},
   "source": [
    "Genera una función en python, que descubra el mensaje real del siguiente texto:\n",
    "\n",
    "\"AMOR SE ANU DADUIC LED OIREPMI ONAMOR\""
   ]
  },
  {
   "cell_type": "code",
   "execution_count": 37,
   "metadata": {},
   "outputs": [],
   "source": [
    "texto= \"AMOR SE ANU DADUIC LED OIREPMI ONAMOR\""
   ]
  },
  {
   "cell_type": "code",
   "execution_count": 38,
   "metadata": {},
   "outputs": [],
   "source": [
    "texto_mod=texto[::-1]"
   ]
  },
  {
   "cell_type": "code",
   "execution_count": 39,
   "metadata": {},
   "outputs": [
    {
     "name": "stdout",
     "output_type": "stream",
     "text": [
      "Texto con palabras invertidas: ROMA ES UNA CIUDAD DEL IMPERIO ROMANO\n"
     ]
    }
   ],
   "source": [
    "palabras = texto_mod.split()  # Dividir el texto en una lista de palabras\n",
    "texto_invertido = ' '.join(palabras[::-1])  # Invertir el orden de las palabras y unirlas nuevamente\n",
    "\n",
    "print(\"Texto con palabras invertidas:\", texto_invertido)"
   ]
  }
 ],
 "metadata": {
  "kernelspec": {
   "display_name": "Python 3",
   "language": "python",
   "name": "python3"
  },
  "language_info": {
   "codemirror_mode": {
    "name": "ipython",
    "version": 3
   },
   "file_extension": ".py",
   "mimetype": "text/x-python",
   "name": "python",
   "nbconvert_exporter": "python",
   "pygments_lexer": "ipython3",
   "version": "3.10.4"
  },
  "orig_nbformat": 4
 },
 "nbformat": 4,
 "nbformat_minor": 2
}
