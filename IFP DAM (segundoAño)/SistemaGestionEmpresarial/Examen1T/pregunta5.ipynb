{
 "cells": [
  {
   "attachments": {},
   "cell_type": "markdown",
   "metadata": {},
   "source": [
    "Mediante regular expresión, extrae por un lado los codigos de empleado y por otro los email, después crea un diccionario en el que la clave sea el CODIGO y el valor el EMAIL.\n",
    "\n",
    "\"PEDRO 1122 AT2 pepe@pepon.es, ANA 2212 TT3 anita@ventas.com, GUSTAVO ctr 5574 gus@comercial.es\""
   ]
  },
  {
   "cell_type": "code",
   "execution_count": 44,
   "metadata": {},
   "outputs": [],
   "source": [
    "import re"
   ]
  },
  {
   "cell_type": "code",
   "execution_count": 75,
   "metadata": {},
   "outputs": [],
   "source": [
    "texto= \"PEDRO 1122 AT2 pepe@pepon.es, ANA 2212 TT3 anita@ventas.com, GUSTAVO ctr 5574 gus@comercial.es\""
   ]
  },
  {
   "cell_type": "code",
   "execution_count": 77,
   "metadata": {},
   "outputs": [
    {
     "name": "stdout",
     "output_type": "stream",
     "text": [
      "['1122', '2212', '5574']\n"
     ]
    }
   ],
   "source": [
    "def extraer(patron, texto):\n",
    "    codigos= {}\n",
    "    for patron in patrones:\n",
    "        codigos[patron]=re.findall(patron, texto)\n",
    "    return codigos\n",
    "\n",
    "patrones=[r'\\b\\d{4}\\b']\n",
    "\n",
    "resultados= extraer(patrones, texto)\n",
    "\n",
    "for patron, resultado in resultados.items():\n",
    "    print(resultado)"
   ]
  },
  {
   "cell_type": "code",
   "execution_count": 78,
   "metadata": {},
   "outputs": [
    {
     "name": "stdout",
     "output_type": "stream",
     "text": [
      "['pepe@pepon.es', 'anita@ventas.com', 'gus@comercial.es']\n"
     ]
    }
   ],
   "source": [
    "def extraer(patron1, texto):\n",
    "    for patron1 in patrones1:\n",
    "        print(re.findall(patron1, texto))\n",
    "patrones1=[r'([a-zA-Z0-9+-]+@[a-zA-Z0-9-]+\\.[a-zA-Z0-9-.]+)']\n",
    "extraer(patrones1, texto)"
   ]
  },
  {
   "cell_type": "code",
   "execution_count": null,
   "metadata": {},
   "outputs": [],
   "source": [
    "diccionario_empleados=[]"
   ]
  },
  {
   "cell_type": "code",
   "execution_count": 79,
   "metadata": {},
   "outputs": [
    {
     "name": "stdout",
     "output_type": "stream",
     "text": [
      "['1122', '2212', '5574']\n",
      "['pepe@pepon.es', 'anita@ventas.com', 'gus@comercial.es']\n"
     ]
    }
   ],
   "source": [
    "import re\n",
    "texto= \"PEDRO 1122 AT2 pepe@pepon.es, ANA 2212 TT3 anita@ventas.com, GUSTAVO ctr 5574 gus@comercial.es\"\n",
    "def extraer(patron, texto):\n",
    "    codigos= {}\n",
    "    for patron in patrones:\n",
    "        codigos[patron]=re.findall(patron, texto)\n",
    "    return codigos\n",
    "\n",
    "patrones=[r'\\b\\d{4}\\b']\n",
    "\n",
    "resultados= extraer(patrones, texto)\n",
    "\n",
    "for patron, resultado in resultados.items():\n",
    "    print(resultado)\n",
    "\n",
    "def extraer(patron1, texto):\n",
    "    for patron1 in patrones1:\n",
    "        print(re.findall(patron1, texto))\n",
    "patrones1=[r'([a-zA-Z0-9+-]+@[a-zA-Z0-9-]+\\.[a-zA-Z0-9-.]+)']\n",
    "extraer(patrones1, texto)\n",
    "\n"
   ]
  }
 ],
 "metadata": {
  "kernelspec": {
   "display_name": "Python 3",
   "language": "python",
   "name": "python3"
  },
  "language_info": {
   "codemirror_mode": {
    "name": "ipython",
    "version": 3
   },
   "file_extension": ".py",
   "mimetype": "text/x-python",
   "name": "python",
   "nbconvert_exporter": "python",
   "pygments_lexer": "ipython3",
   "version": "3.10.4"
  },
  "orig_nbformat": 4
 },
 "nbformat": 4,
 "nbformat_minor": 2
}
