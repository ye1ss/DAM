{
 "cells": [
  {
   "cell_type": "markdown",
   "metadata": {},
   "source": [
    "#### Nota: Estos ejemplos están indicados para hacerse en scripts de código Python, no en Jupyter"
   ]
  },
  {
   "cell_type": "markdown",
   "metadata": {},
   "source": [
    "## Conexión a la base de datos, creación y desconexión"
   ]
  },
  {
   "cell_type": "code",
   "execution_count": 5,
   "metadata": {},
   "outputs": [],
   "source": [
    "# Importamos el módulo\n",
    "import sqlite3\n",
    "\n",
    "# Nos conectamos a la base de datos ejemplo.db (la crea si no existe)\n",
    "conexion = sqlite3.connect('ejemplo.db')\n",
    "\n",
    "# Cerramos la conexión, si no la cerramos se mantendrá en uso y no podremos gestionar el fichero\n",
    "conexion.close()"
   ]
  },
  {
   "cell_type": "markdown",
   "metadata": {},
   "source": [
    "## Creación de una tabla utilizando sintaxis SQL\n",
    "Antes de ejecutar una consulta (query) en código SQL, tenemos que crear un cursor.\n",
    "\n",
    "**Una vez creada la tabla, si intentamos volver a crearla dará error indicándonos que esta ya existe.**"
   ]
  },
  {
   "cell_type": "code",
   "execution_count": 4,
   "metadata": {},
   "outputs": [],
   "source": [
    "import sqlite3\n",
    "\n",
    "conexion = sqlite3.connect('ejemplo.db')\n",
    "\n",
    "# Creamos el cursor\n",
    "cursor = conexion.cursor()\n",
    "\n",
    "# Ahora crearemos una tabla de usuarios para almacenar nombres, edades y emails\n",
    "cursor.execute(\"CREATE TABLE ALUMNOS (CODIGO INTEGER PRIMARY KEY AUTOINCREMENT, NOMBRE VARCHAR(100), EDAD INTEGER, EMAIL VARCHAR(100))\")\n",
    "\n",
    "# Guardamos los cambios haciendo un commit\n",
    "conexion.commit()\n",
    "\n",
    "conexion.close()"
   ]
  },
  {
   "cell_type": "markdown",
   "metadata": {},
   "source": [
    "## Insertando un registro"
   ]
  },
  {
   "cell_type": "code",
   "execution_count": 3,
   "metadata": {
    "collapsed": true
   },
   "outputs": [],
   "source": [
    "import sqlite3\n",
    "\n",
    "conexion = sqlite3.connect('ejemplo.db')\n",
    "cursor = conexion.cursor()\n",
    "\n",
    "# Insertamos un registro en la tabla de usuarios\n",
    "cursor.execute(\"INSERT INTO USUARIOS (NOMBRE,EDAD,EMAIL) VALUES ('Pedro', 27, 'pedro@gmail.com')\")\n",
    "\n",
    "# Guardamos los cambios haciendo un commit\n",
    "conexion.commit()\n",
    "\n",
    "conexion.close()"
   ]
  },
  {
   "cell_type": "markdown",
   "metadata": {},
   "source": [
    "## Recuperando el primer registro con .fetchone()"
   ]
  },
  {
   "cell_type": "code",
   "execution_count": 7,
   "metadata": {},
   "outputs": [
    {
     "name": "stdout",
     "output_type": "stream",
     "text": [
      "<sqlite3.Cursor object at 0x00000258920AA740>\n",
      "[('Mario', 51, 'mario@ejemplo.com'), ('Mercedes', 38, 'mercedes@ejemplo.com'), ('Juan', 19, 'juan@ejemplo.com'), ('Pedro', 27, 'pedro@gmail.com')]\n"
     ]
    }
   ],
   "source": [
    "import sqlite3\n",
    "\n",
    "conexion = sqlite3.connect('ejemplo.db')\n",
    "cursor = conexion.cursor()\n",
    "\n",
    "# Recuperamos los registros de la tabla de usuarios\n",
    "cursor.execute(\"SELECT * FROM usuarios\")\n",
    "\n",
    "# Mostrar el cursos a ver que hay ?\n",
    "print(cursor)\n",
    "\n",
    "# Recorremos el primer registro con el método fetchone, devuelve una tupla\n",
    "usuario = cursor.fetchall()\n",
    "print(usuario)\n",
    "\n",
    "conexion.close()"
   ]
  },
  {
   "cell_type": "markdown",
   "metadata": {},
   "source": [
    "## Insertando varios registros con .executemany()"
   ]
  },
  {
   "cell_type": "code",
   "execution_count": 3,
   "metadata": {},
   "outputs": [],
   "source": [
    "import sqlite3\n",
    "\n",
    "conexion = sqlite3.connect('ejemplo.db')\n",
    "cursor = conexion.cursor()\n",
    "\n",
    "# Creamos una lista con varios usuarios\n",
    "usuarios = [('Mario', 51, 'mario@ejemplo.com'),\n",
    "            ('Mercedes', 38, 'mercedes@ejemplo.com'),\n",
    "            ('Juan', 19, 'juan@ejemplo.com'),\n",
    "            ]\n",
    "\n",
    "# Ahora utilizamos el método executemany() para insertar varios\n",
    "cursor.executemany(\"INSERT INTO usuarios VALUES (?,?,?)\", usuarios)\n",
    "\n",
    "# Guardamos los cambios haciendo un commit\n",
    "conexion.commit()\n",
    "\n",
    "conexion.close()"
   ]
  },
  {
   "cell_type": "markdown",
   "metadata": {},
   "source": [
    "## Recuperando varios registros con .fetchall()"
   ]
  },
  {
   "cell_type": "code",
   "execution_count": 4,
   "metadata": {},
   "outputs": [
    {
     "name": "stdout",
     "output_type": "stream",
     "text": [
      "('Mario', 51, 'mario@ejemplo.com')\n",
      "('Mercedes', 38, 'mercedes@ejemplo.com')\n",
      "('Juan', 19, 'juan@ejemplo.com')\n"
     ]
    }
   ],
   "source": [
    "import sqlite3\n",
    "\n",
    "conexion = sqlite3.connect('ejemplo.db')\n",
    "cursor = conexion.cursor()\n",
    "\n",
    "# Recuperamos los registros de la tabla de usuarios\n",
    "cursor.execute(\"SELECT * FROM usuarios\")\n",
    "\n",
    "# Recorremos todos los registros con fetchall, y los volvamos en una lista de usuarios\n",
    "usuarios = cursor.fetchall()\n",
    "\n",
    "# Ahora podemos recorrer todos los usuarios\n",
    "for usuario in usuarios:\n",
    "    print(usuario)\n",
    "\n",
    "conexion.close()"
   ]
  },
  {
   "cell_type": "markdown",
   "metadata": {},
   "source": [
    "## Utilizando DB Browser\n",
    "En esta práctica vamos a analizar el contenido de nuestra base de datos utilizando un programa externo.\n",
    "\n",
    "http://sqlitebrowser.org/"
   ]
  }
 ],
 "metadata": {
  "anaconda-cloud": {},
  "kernelspec": {
   "display_name": "Python 3",
   "language": "python",
   "name": "python3"
  },
  "language_info": {
   "codemirror_mode": {
    "name": "ipython",
    "version": 3
   },
   "file_extension": ".py",
   "mimetype": "text/x-python",
   "name": "python",
   "nbconvert_exporter": "python",
   "pygments_lexer": "ipython3",
   "version": "3.11.5"
  }
 },
 "nbformat": 4,
 "nbformat_minor": 1
}
